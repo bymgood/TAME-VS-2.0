{
 "cells": [
  {
   "cell_type": "code",
   "execution_count": 1,
   "id": "fb7ba4d1",
   "metadata": {},
   "outputs": [
    {
     "name": "stdout",
     "output_type": "stream",
     "text": [
      "Module of GNN data preparation\n"
     ]
    }
   ],
   "source": [
    "print('Module of GNN data preparation')"
   ]
  },
  {
   "cell_type": "code",
   "execution_count": null,
   "id": "36ecb806",
   "metadata": {},
   "outputs": [],
   "source": [
    "import os\n",
    "import pandas as pd\n",
    "import pickle\n",
    "import argparse\n",
    "from data_utils import *"
   ]
  },
  {
   "cell_type": "markdown",
   "id": "856e18eb",
   "metadata": {},
   "source": [
    "# Parse input"
   ]
  },
  {
   "cell_type": "code",
   "execution_count": null,
   "id": "f5284a5f",
   "metadata": {},
   "outputs": [],
   "source": [
    "parser = argparse.ArgumentParser()\n",
    "parser.add_argument('-i','--input', help=\"data file used for virtual screening\", required=True)\n",
    "parser.add_argument('-s','--smiles', help = \"Which column is the SMILES column? Starting from 1\", required=True)\n",
    "parser.add_argument('-c','--cmpd_id', help = \"Which column is the compound id column? Starting from 1\", required=True)\n",
    "parser.add_argument('-f','--file_name', help = \"A name to save out files...\", required=True)\n",
    "args = parser.parse_args()\n"
   ]
  },
  {
   "cell_type": "markdown",
   "id": "2493b50c",
   "metadata": {},
   "source": [
    "# Make functions"
   ]
  },
  {
   "cell_type": "code",
   "execution_count": 4,
   "id": "c219eb52",
   "metadata": {},
   "outputs": [],
   "source": [
    "def read_cmpds(name,smi_col, id_col):\n",
    "    print(\"Read input library file\")\n",
    "    df=pd.read_csv(name)\n",
    "    smiles=df.iloc[:,smi_col]\n",
    "    comp_id=df.iloc[:,id_col]\n",
    "    return smiles, comp_id"
   ]
  },
  {
   "cell_type": "code",
   "execution_count": null,
   "id": "c8c2e5be",
   "metadata": {},
   "outputs": [],
   "source": [
    "def process_data():\n",
    "\n",
    "    gnn_dataset = MoleculeDataset(f\"{new_name}\")\n",
    "\n",
    "    with open(args.file_name, 'wb') as f:\n",
    "        pickle.dump(gnn_dataset, f)"
   ]
  },
  {
   "cell_type": "markdown",
   "id": "5b57154a",
   "metadata": {},
   "source": [
    "# Use functions"
   ]
  },
  {
   "cell_type": "code",
   "execution_count": null,
   "id": "90364b4a",
   "metadata": {},
   "outputs": [
    {
     "name": "stdout",
     "output_type": "stream",
     "text": [
      "Read input library file\n"
     ]
    }
   ],
   "source": [
    "smiles, comp_id=read_cmpds(args.input, (int(args.smiles)-1), (int(args.cmpd_id)-1))\n",
    "df_data = pd.DataFrame({'smiles': smiles, 'comp_id': comp_id})\n",
    "base_name = os.path.splitext(os.path.basename(args.input))[0]\n",
    "base_name = base_name.replace(\"_compounds_collection\", \"\")\n",
    "new_name = f\"{base_name}_gnn_preparation.csv\"\n",
    "df_data.to_csv(new_name, index=False, header=False)\n",
    "\n",
    "process_data()\n",
    "with open(args.file_name, 'rb') as f: \n",
    "    data = pickle.load(f)\n",
    "num_compounds = len(data)\n",
    "print(f\"Number of compounds in the dataset: {num_compounds}\")\n",
    "print(\"Data processing complete.\")"
   ]
  }
 ],
 "metadata": {
  "kernelspec": {
   "display_name": "TAME_VS",
   "language": "python",
   "name": "python3"
  },
  "language_info": {
   "codemirror_mode": {
    "name": "ipython",
    "version": 3
   },
   "file_extension": ".py",
   "mimetype": "text/x-python",
   "name": "python",
   "nbconvert_exporter": "python",
   "pygments_lexer": "ipython3",
   "version": "3.7.16"
  }
 },
 "nbformat": 4,
 "nbformat_minor": 5
}
