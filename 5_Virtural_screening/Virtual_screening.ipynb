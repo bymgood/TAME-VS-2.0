{
 "cells": [
  {
   "cell_type": "code",
   "execution_count": 1,
   "id": "fb7ba4d1",
   "metadata": {},
   "outputs": [
    {
     "name": "stdout",
     "output_type": "stream",
     "text": [
      "Module 5: Virtual screening\n"
     ]
    }
   ],
   "source": [
    "print('Module 5: Virtual screening')"
   ]
  },
  {
   "cell_type": "code",
   "execution_count": null,
   "id": "36ecb806",
   "metadata": {},
   "outputs": [],
   "source": [
    "import pandas as pd\n",
    "import pickle\n",
    "import argparse\n",
    "import numpy as np\n",
    "import matplotlib.pyplot as plt\n",
    "import gc\n",
    "\n",
    "from scipy import interp\n",
    "from itertools import cycle\n",
    "from sklearn.naive_bayes import BernoulliNB\n",
    "from sklearn.metrics import roc_curve, auc\n",
    "from sklearn.model_selection import StratifiedKFold\n",
    "from sklearn.model_selection import train_test_split\n",
    "from sklearn.cluster import KMeans"
   ]
  },
  {
   "cell_type": "markdown",
   "id": "856e18eb",
   "metadata": {},
   "source": [
    "# Parse input"
   ]
  },
  {
   "cell_type": "code",
   "execution_count": null,
   "id": "f5284a5f",
   "metadata": {},
   "outputs": [],
   "source": [
    "parser = argparse.ArgumentParser()\n",
    "parser.add_argument('-m','--model', help = 'Load the prepared machine learning model', required=True)\n",
    "parser.add_argument('-t','--model_type', help = 'Specify the algorithm of model to be loaded - choose from Bayes, LGBM, and RF', required=True)\n",
    "parser.add_argument('-s','--screen_set', help='load the compound set to screen', required=True)\n",
    "parser.add_argument('-f','--file_name', help=\"filename to save the result to\", required=True)\n",
    "parser.add_argument('-k','--chunksize',  type=int, default=100000, help='Number of rows per chunk')\n",
    "args = parser.parse_args()"
   ]
  },
  {
   "cell_type": "markdown",
   "id": "2493b50c",
   "metadata": {},
   "source": [
    "# Make functions"
   ]
  },
  {
   "cell_type": "code",
   "execution_count": 5,
   "id": "15bb24c2",
   "metadata": {},
   "outputs": [],
   "source": [
    "def read_model(name):\n",
    "    model = pickle.load(open(name, 'rb'))\n",
    "    print (name + \" loaded\")\n",
    "    return model"
   ]
  },
  {
   "cell_type": "code",
   "execution_count": 24,
   "id": "9954bf16",
   "metadata": {},
   "outputs": [],
   "source": [
    "def read_library(name):\n",
    "    screen_set = pd.read_csv(name, header=0)\n",
    "    print('screen set loaded')\n",
    "    print('screen set includes '+str(screen_set.shape[0])+' compounds')\n",
    "    return screen_set"
   ]
  },
  {
   "cell_type": "code",
   "execution_count": null,
   "id": "6069a94b",
   "metadata": {},
   "outputs": [],
   "source": [
    "def screening(model, screen_set, name, chunksize=None):\n",
    "    print('In progress of screening...')\n",
    "    output_file = args.file_name + '.csv'\n",
    "    first = True\n",
    "    # Chunked or single\n",
    "    iterator = screen_set if hasattr(screen_set, '__iter__') and not isinstance(screen_set, pd.DataFrame) else [screen_set]\n",
    "    for chunk in iterator:\n",
    "        df = chunk if isinstance(chunk, pd.DataFrame) else chunk\n",
    "        comp_id = df.iloc[:, 0]\n",
    "        smiles = df.iloc[:, 1]\n",
    "        fps = df.iloc[:, 2:]\n",
    "        probas = model.predict_proba(fps)[:, 1]\n",
    "        out = pd.DataFrame({\n",
    "            'comp_id': comp_id,\n",
    "            'smiles': smiles,\n",
    "            f'{name}_prediction_score': probas\n",
    "        })\n",
    "        if first:\n",
    "            out.to_csv(output_file, index=False, mode='w')\n",
    "            first = False\n",
    "        else:\n",
    "            out.to_csv(output_file, index=False, mode='a', header=False)\n",
    "        # cleanup\n",
    "        del df, comp_id, smiles, fps, probas, out\n",
    "        gc.collect()\n",
    "    return output_file"
   ]
  },
  {
   "cell_type": "code",
   "execution_count": null,
   "id": "8b16c37e",
   "metadata": {},
   "outputs": [],
   "source": [
    "def write_out(outcome, name):\n",
    "    file_name = str(name)\n",
    "    print(f\"Done. The library file with scores is saved to the disk: {outcome}\")\n",
    "    return"
   ]
  },
  {
   "cell_type": "markdown",
   "id": "5b57154a",
   "metadata": {},
   "source": [
    "# Use functions"
   ]
  },
  {
   "cell_type": "code",
   "execution_count": null,
   "id": "e7125345",
   "metadata": {},
   "outputs": [],
   "source": [
    "model = read_model(args.model)\n",
    "screen_set = read_library(args.screen_set, chunksize=args.chunksize)\n",
    "out_file = screening(model, screen_set, args.model_type, chunksize=args.chunksize)\n",
    "write_out(out_file, args.file_name)"
   ]
  },
  {
   "cell_type": "code",
   "execution_count": null,
   "id": "90364b4a",
   "metadata": {},
   "outputs": [
    {
     "name": "stdout",
     "output_type": "stream",
     "text": [
      "文件一共有 4410400 行数据\n"
     ]
    }
   ],
   "source": []
  }
 ],
 "metadata": {
  "kernelspec": {
   "display_name": "TAME_VS",
   "language": "python",
   "name": "python3"
  },
  "language_info": {
   "codemirror_mode": {
    "name": "ipython",
    "version": 3
   },
   "file_extension": ".py",
   "mimetype": "text/x-python",
   "name": "python",
   "nbconvert_exporter": "python",
   "pygments_lexer": "ipython3",
   "version": "3.9.21"
  }
 },
 "nbformat": 4,
 "nbformat_minor": 5
}
