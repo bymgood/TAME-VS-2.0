{
 "cells": [
  {
   "cell_type": "code",
   "execution_count": 6,
   "id": "fb7ba4d1",
   "metadata": {},
   "outputs": [
    {
     "name": "stdout",
     "output_type": "stream",
     "text": [
      "Module 5_2: GNN_Virtual screening\n"
     ]
    }
   ],
   "source": [
    "print('Module 5_2: GNN_Virtual screening')"
   ]
  },
  {
   "cell_type": "code",
   "execution_count": 1,
   "id": "36ecb806",
   "metadata": {},
   "outputs": [],
   "source": [
    "import torch\n",
    "import pickle\n",
    "import pandas as pd\n",
    "import argparse\n",
    "from torch_geometric.loader import DataLoader\n",
    "from tqdm import tqdm"
   ]
  },
  {
   "cell_type": "markdown",
   "id": "856e18eb",
   "metadata": {},
   "source": [
    "# Parse input"
   ]
  },
  {
   "cell_type": "code",
   "execution_count": null,
   "id": "740f9d3b",
   "metadata": {},
   "outputs": [],
   "source": [
    "parser = argparse.ArgumentParser()\n",
    "parser.add_argument('-s','--screen_set', help='load the compound set to screen', required=True)\n",
    "parser.add_argument('-f','--file_name', help=\"filename to save the result to\", required=True)\n",
    "args = parser.parse_args()"
   ]
  },
  {
   "cell_type": "markdown",
   "id": "2493b50c",
   "metadata": {},
   "source": [
    "# Make functions"
   ]
  },
  {
   "cell_type": "code",
   "execution_count": 3,
   "id": "c219eb52",
   "metadata": {},
   "outputs": [],
   "source": [
    "def score_model(model, data_loader):\n",
    "    model.eval()\n",
    "    scores = []\n",
    "    smiles_list = []\n",
    "    id_list = []\n",
    "    with torch.no_grad():\n",
    "        for batch in tqdm(data_loader, desc=\"Scoring\"):\n",
    "            batch = batch.to('cuda')\n",
    "            out = model(batch)\n",
    "            batch_scores = torch.exp(out)[:, 1].cpu().numpy()\n",
    "            scores.extend(batch_scores)\n",
    "            smiles_list.extend(batch.smiles) \n",
    "            id_list.extend(batch.cmpd_id)\n",
    "    return smiles_list, id_list, scores\n"
   ]
  },
  {
   "cell_type": "code",
   "execution_count": 4,
   "id": "ab021dfa",
   "metadata": {},
   "outputs": [],
   "source": [
    "def save_sorted_scores(smiles_list, id_list, scores, output_csv_path):\n",
    "\n",
    "    df = pd.DataFrame({\n",
    "        'comp_id': id_list,\n",
    "        'smiles': smiles_list,\n",
    "        'GNN_prediction_score': scores,\n",
    "    })\n",
    "\n",
    "    df.to_csv(output_csv_path, index=False)\n",
    "    print(f\"Sorted scores saved to {output_csv_path}\")\n",
    "\n"
   ]
  },
  {
   "cell_type": "markdown",
   "id": "5b57154a",
   "metadata": {},
   "source": [
    "# Use functions"
   ]
  },
  {
   "cell_type": "code",
   "execution_count": null,
   "id": "90364b4a",
   "metadata": {},
   "outputs": [
    {
     "name": "stderr",
     "output_type": "stream",
     "text": [
      "/tmp/ipykernel_69995/4126684811.py:2: FutureWarning: You are using `torch.load` with `weights_only=False` (the current default value), which uses the default pickle module implicitly. It is possible to construct malicious pickle data which will execute arbitrary code during unpickling (See https://github.com/pytorch/pytorch/blob/main/SECURITY.md#untrusted-models for more details). In a future release, the default value for `weights_only` will be flipped to `True`. This limits the functions that could be executed during unpickling. Arbitrary objects will no longer be allowed to be loaded via this mode unless they are explicitly allowlisted by the user via `torch.serialization.add_safe_globals`. We recommend you start setting `weights_only=True` for any use case where you don't have full control of the loaded file. Please open an issue on GitHub for any issues related to this experimental feature.\n",
      "  model = torch.load(model_path)\n",
      "Scoring: 100%|██████████| 8615/8615 [23:55<00:00,  6.00it/s]\n"
     ]
    },
    {
     "name": "stdout",
     "output_type": "stream",
     "text": [
      "Sorted scores saved to P09238_4m_VS_GNN.csv\n"
     ]
    }
   ],
   "source": [
    "model_path = 'gnn_model.pth'\n",
    "model = torch.load(model_path, weights_only=False)\n",
    "model.eval()\n",
    "dataset_path = args.screen_set\n",
    "with open(dataset_path, 'rb') as f:\n",
    "    dataset = pickle.load(f)\n",
    "data_loader = DataLoader(dataset, batch_size=512, num_workers=8)\n",
    "\n",
    "smiles_list, id_list, scores = score_model(model, data_loader)\n",
    "\n",
    "output_csv_path = args.file_name + '.csv'\n",
    "save_sorted_scores(smiles_list, id_list, scores, output_csv_path)"
   ]
  }
 ],
 "metadata": {
  "kernelspec": {
   "display_name": "TAME_VS",
   "language": "python",
   "name": "python3"
  },
  "language_info": {
   "codemirror_mode": {
    "name": "ipython",
    "version": 3
   },
   "file_extension": ".py",
   "mimetype": "text/x-python",
   "name": "python",
   "nbconvert_exporter": "python",
   "pygments_lexer": "ipython3",
   "version": "3.7.16"
  }
 },
 "nbformat": 4,
 "nbformat_minor": 5
}
