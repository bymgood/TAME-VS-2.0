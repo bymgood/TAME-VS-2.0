{
 "cells": [
  {
   "cell_type": "code",
   "execution_count": 3,
   "id": "a6121e1e",
   "metadata": {},
   "outputs": [],
   "source": [
    "import os\n",
    "import numpy as np\n",
    "import pandas as pd\n",
    "import argparse\n",
    "from sklearn.model_selection import train_test_split"
   ]
  },
  {
   "cell_type": "markdown",
   "id": "09699fc7",
   "metadata": {},
   "source": [
    "# Parse input"
   ]
  },
  {
   "cell_type": "code",
   "execution_count": 4,
   "id": "72911f01",
   "metadata": {},
   "outputs": [],
   "source": [
    "parser = argparse.ArgumentParser()\n",
    "parser.add_argument('--input_inactives', required=True, \n",
    "                        help = \"The compound list for FP calculation. Or simply the output file from Module 2\")\n",
    "parser.add_argument('--input_actives', required=True, \n",
    "                        help = \"The compound list for FP calculation. Or simply the output file from Module 2\")\n",
    "args = parser.parse_args(['--input_inactives', 'inactives_Q16790_compounds_collection.csv', '--input_actives', 'actives_Q16790_compounds_collection.csv'])"
   ]
  },
  {
   "cell_type": "markdown",
   "id": "0e8da521",
   "metadata": {},
   "source": [
    "# Make functions"
   ]
  },
  {
   "cell_type": "code",
   "execution_count": 5,
   "id": "bc3b4f88",
   "metadata": {},
   "outputs": [],
   "source": [
    "def read_cmpds(name):\n",
    "    print(\"Read input compounds file\")\n",
    "    df=pd.read_csv(name)\n",
    "    original=df.shape[0]\n",
    "    df['canonical_smiles'].replace('', np.nan, inplace=True)\n",
    "    df.dropna(subset=['canonical_smiles'], inplace=True)\n",
    "    recognized=df.shape[0]\n",
    "    diff=original-recognized\n",
    "    print(str(recognized) + ' compounds recognized. ' + str(diff) + ' unrecognized SMILES are dropped.')\n",
    "    df.reset_index(drop=True, inplace=True)\n",
    "    df=df['canonical_smiles']\n",
    "    return df"
   ]
  },
  {
   "cell_type": "code",
   "execution_count": 6,
   "id": "06562a02",
   "metadata": {},
   "outputs": [],
   "source": [
    "def split(active_csv, inactive_csv, random_state=42):\n",
    "\n",
    "    active_df = pd.read_csv(active_csv)\n",
    "    active_df['label'] = 1\n",
    "\n",
    "    inactive_df = pd.read_csv(inactive_csv)\n",
    "    inactive_df['label'] = 0\n",
    "\n",
    "    data = pd.concat([active_df, inactive_df], ignore_index=True)\n",
    "\n",
    "    train_data, val_data = train_test_split(\n",
    "        data[['canonical_smiles', 'label']],\n",
    "        test_size=0.2,\n",
    "        stratify=data['label'],\n",
    "        random_state=random_state\n",
    "    )\n",
    "\n",
    "    train_data.to_csv('train_data.csv', index=False, header=False)\n",
    "    val_data.to_csv('val_data.csv', index=False, header=False)\n",
    "    return train_data, val_data"
   ]
  },
  {
   "cell_type": "markdown",
   "id": "773c425c",
   "metadata": {},
   "source": [
    "## Use functions"
   ]
  },
  {
   "cell_type": "code",
   "execution_count": 7,
   "id": "79eccd62",
   "metadata": {},
   "outputs": [
    {
     "name": "stdout",
     "output_type": "stream",
     "text": [
      "Read input compounds file\n",
      "1120 compounds recognized. 16 unrecognized SMILES are dropped.\n",
      "Read input compounds file\n",
      "4568 compounds recognized. 0 unrecognized SMILES are dropped.\n"
     ]
    }
   ],
   "source": [
    "df_inactives=read_cmpds(args.input_inactives)\n",
    "df_actives=read_cmpds(args.input_actives)\n",
    "inactives_base_name = os.path.splitext(os.path.basename(args.input_inactives))[0]\n",
    "actives_base_name = os.path.splitext(os.path.basename(args.input_actives))[0]\n",
    "inactives_base_name = inactives_base_name.replace(\"_compounds_collection\", \"\")\n",
    "actives_base_name = actives_base_name.replace(\"_compounds_collection\", \"\")\n",
    "inactives_new_name = f\"{inactives_base_name}_smiles.csv\"\n",
    "actives_new_name = f\"{actives_base_name}_smiles.csv\"\n",
    "df_inactives.to_csv(inactives_new_name, index=False)\n",
    "df_actives.to_csv(actives_new_name, index=False)\n",
    "\n",
    "train_data, val_data = split(\n",
    "    active_csv=actives_new_name,\n",
    "    inactive_csv=inactives_new_name,\n",
    "    random_state=42\n",
    ")\n"
   ]
  },
  {
   "cell_type": "code",
   "execution_count": null,
   "id": "cc020ec2",
   "metadata": {},
   "outputs": [],
   "source": []
  }
 ],
 "metadata": {
  "kernelspec": {
   "display_name": "TAME_VS",
   "language": "python",
   "name": "python3"
  },
  "language_info": {
   "codemirror_mode": {
    "name": "ipython",
    "version": 3
   },
   "file_extension": ".py",
   "mimetype": "text/x-python",
   "name": "python",
   "nbconvert_exporter": "python",
   "pygments_lexer": "ipython3",
   "version": "3.7.16"
  }
 },
 "nbformat": 4,
 "nbformat_minor": 5
}
