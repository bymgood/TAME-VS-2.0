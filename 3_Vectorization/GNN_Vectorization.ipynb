{
 "cells": [
  {
   "cell_type": "code",
   "execution_count": 6,
   "id": "a6121e1e",
   "metadata": {},
   "outputs": [],
   "source": [
    "import numpy as np\n",
    "import pandas as pd\n",
    "import argparse\n",
    "import pickle\n",
    "from data_utils import MoleculeDataset  "
   ]
  },
  {
   "cell_type": "markdown",
   "id": "09699fc7",
   "metadata": {},
   "source": [
    "# Parse input"
   ]
  },
  {
   "cell_type": "code",
   "execution_count": 7,
   "id": "72911f01",
   "metadata": {},
   "outputs": [],
   "source": [
    "parser = argparse.ArgumentParser()\n",
    "parser.add_argument('-i', '--input', required=True, help = 'A txt file containing smiles and tags')\n",
    "args = parser.parse_args(['-i', 'train_data.csv'])"
   ]
  },
  {
   "cell_type": "markdown",
   "id": "0e8da521",
   "metadata": {},
   "source": [
    "# Make functions"
   ]
  },
  {
   "cell_type": "code",
   "execution_count": 8,
   "id": "bc3b4f88",
   "metadata": {},
   "outputs": [],
   "source": [
    "def read_cmpds(name):\n",
    "    print(\"Read input compounds file\")\n",
    "    df=pd.read_csv(name)\n",
    "    original=df.shape[0]\n",
    "    df['canonical_smiles'].replace('', np.nan, inplace=True)\n",
    "    df.dropna(subset=['canonical_smiles'], inplace=True)\n",
    "    recognized=df.shape[0]\n",
    "    diff=original-recognized\n",
    "    print(str(recognized) + ' compounds recognized. ' + str(diff) + ' unrecognized SMILES are dropped.')\n",
    "    df.reset_index(drop=True, inplace=True)\n",
    "    df=df['canonical_smiles']\n",
    "    return df"
   ]
  },
  {
   "cell_type": "code",
   "execution_count": 9,
   "id": "06562a02",
   "metadata": {},
   "outputs": [],
   "source": [
    "def GNN_Vectorization(data_file):\n",
    "    file_prefix = data_file.split('.')[0]\n",
    "    output_file = f\"{file_prefix}.pkl\"\n",
    "    \n",
    "    dataset = MoleculeDataset(data_file)\n",
    "    \n",
    "    with open(output_file, 'wb') as f:\n",
    "        pickle.dump(dataset, f)\n",
    "\n",
    "    \n",
    "    return output_file\n"
   ]
  },
  {
   "cell_type": "markdown",
   "id": "35e7630a",
   "metadata": {},
   "source": [
    "# use functions"
   ]
  },
  {
   "cell_type": "code",
   "execution_count": 10,
   "id": "8bcadadf",
   "metadata": {},
   "outputs": [
    {
     "data": {
      "text/plain": [
       "'train_data.pkl'"
      ]
     },
     "execution_count": 10,
     "metadata": {},
     "output_type": "execute_result"
    }
   ],
   "source": [
    "GNN_Vectorization(args.input)"
   ]
  }
 ],
 "metadata": {
  "kernelspec": {
   "display_name": "TAME_VS",
   "language": "python",
   "name": "python3"
  },
  "language_info": {
   "codemirror_mode": {
    "name": "ipython",
    "version": 3
   },
   "file_extension": ".py",
   "mimetype": "text/x-python",
   "name": "python",
   "nbconvert_exporter": "python",
   "pygments_lexer": "ipython3",
   "version": "3.9.21"
  }
 },
 "nbformat": 4,
 "nbformat_minor": 5
}
