{
 "cells": [
  {
   "cell_type": "code",
   "execution_count": 102,
   "id": "4f539424",
   "metadata": {},
   "outputs": [
    {
     "name": "stdout",
     "output_type": "stream",
     "text": [
      "Module 7: Data processing\n"
     ]
    }
   ],
   "source": [
    "print('Module 7: Data processing')"
   ]
  },
  {
   "cell_type": "code",
   "execution_count": 103,
   "id": "4b6f1c65",
   "metadata": {},
   "outputs": [],
   "source": [
    "import sys\n",
    "import numpy as np\n",
    "import pandas as pd\n",
    "np.set_printoptions(threshold=sys.maxsize)\n",
    "import argparse"
   ]
  },
  {
   "cell_type": "markdown",
   "id": "94bc8596",
   "metadata": {},
   "source": [
    "# Parse input"
   ]
  },
  {
   "cell_type": "code",
   "execution_count": 104,
   "id": "98615d79",
   "metadata": {},
   "outputs": [],
   "source": [
    "def parse_weights(s: str):\n",
    "    \"\"\"\n",
    "    Parse a weight string in the format mlp:rf:gnn (e.g. \"1:2:3\") into a tuple of floats.\n",
    "    \"\"\"\n",
    "    parts = s.split(':')\n",
    "    if len(parts) != 3:\n",
    "        raise argparse.ArgumentTypeError(\n",
    "            \"Weight format must be mlp:rf:gnn, for example '1:2:3'\"\n",
    "        )\n",
    "    try:\n",
    "        return tuple(map(float, parts))\n",
    "    except ValueError:\n",
    "        raise argparse.ArgumentTypeError(\n",
    "            \"Each weight must be a number\"\n",
    "        )\n",
    "parser = argparse.ArgumentParser()\n",
    "parser.add_argument('-r','--result_rf', help = 'The outcome rf file from the module 6', required=True)\n",
    "parser.add_argument('-m','--result_mlp', help = 'The outcome mlp file from the module 6', required=True)\n",
    "parser.add_argument('-g','--result_gnn', help = 'The outcome gnn file from the module 6', required=True)\n",
    "parser.add_argument('-f','--file_name', help='The output file name', required=True)\n",
    "parser.add_argument('-p', '--proportions', help=\"Weights for the three models in mlp:rf:gnn format (e.g. '1:1:1')\", type=parse_weights, default='1:1:1', required=False)\n",
    "args = parser.parse_args(['--result_rf', 'P09238_50K_VS_RF.csv_properties_calculated.csv', '--result_mlp', 'P09238_50K_VS_MLP.csv_properties_calculated.csv', '--result_gnn', 'P09238_50K_VS_GNN.csv_properties_calculated.csv', '--file_name', 'P09238_50K_VS_MLP_RF_GNN.csv', '--proportions', '1:1:1'])"
   ]
  },
  {
   "cell_type": "markdown",
   "id": "78e9120a",
   "metadata": {},
   "source": [
    "# Make functions"
   ]
  },
  {
   "cell_type": "code",
   "execution_count": 105,
   "id": "d96203eb",
   "metadata": {},
   "outputs": [],
   "source": [
    "def read_screen_result(name):\n",
    "    print ('Read '+ name +'...')\n",
    "    outcome = pd.read_csv(name, header=0)\n",
    "    return outcome"
   ]
  },
  {
   "cell_type": "code",
   "execution_count": 106,
   "id": "56fcd27f",
   "metadata": {},
   "outputs": [],
   "source": [
    "def add_rank(outcome,model_type):\n",
    "    i=1\n",
    "    rank=[]\n",
    "    while i < len(outcome)+1:\n",
    "        rank.append(i)\n",
    "        i+=1\n",
    "    outcome[model_type+'_rank']=rank\n",
    "    return outcome"
   ]
  },
  {
   "cell_type": "code",
   "execution_count": 107,
   "id": "e4310c8d",
   "metadata": {},
   "outputs": [],
   "source": [
    "def merge_three(mlp,rf,gnn):\n",
    "    print ('Merge three files...')\n",
    "    mlp = mlp[['comp_id','MLP_prediction_score','mlp_rank']]\n",
    "    combined = rf.merge(mlp,on='comp_id')\n",
    "    gnn = gnn[['comp_id', 'GNN_prediction_score', 'gnn_rank']]\n",
    "    combined = combined.merge(gnn, on='comp_id')\n",
    "    combined = combined[['comp_id', 'smiles', 'MolWt', 'MolLogP', 'NumHAcceptors', 'NumHDonors', 'NumRotatableBonds', 'TPSA', 'QED', 'MLP_prediction_score', 'mlp_rank', 'RF_prediction_score', 'rf_rank', 'GNN_prediction_score', 'gnn_rank']]\n",
    "    return combined"
   ]
  },
  {
   "cell_type": "code",
   "execution_count": 108,
   "id": "a051644d",
   "metadata": {},
   "outputs": [],
   "source": [
    "def normalize_scores(combined):\n",
    "    norm_rf = (combined['RF_prediction_score']-combined['RF_prediction_score'].min())/(combined['RF_prediction_score'].max()-combined['RF_prediction_score'].min())\n",
    "    norm_mlp = (combined['MLP_prediction_score']-combined['MLP_prediction_score'].min())/(combined['MLP_prediction_score'].max()-combined['MLP_prediction_score'].min())\n",
    "    norm_gnn = (combined['GNN_prediction_score']-combined['GNN_prediction_score'].min())/(combined['GNN_prediction_score'].max() - combined['GNN_prediction_score'].min())\n",
    "    combined['norm_mlp_score'] = norm_mlp\n",
    "    combined['norm_RF_score'] = norm_rf\n",
    "    combined['norm_gnn_score'] = norm_gnn\n",
    "    return combined"
   ]
  },
  {
   "cell_type": "code",
   "execution_count": 109,
   "id": "4c062038",
   "metadata": {},
   "outputs": [],
   "source": [
    "def ensemble_score(normalized_combined, w_mlp, w_rf, w_gnn):\n",
    "    print ('Add ensemble ranking as well...')\n",
    "    total = w_mlp + w_rf + w_gnn\n",
    "    w_mlp /= total\n",
    "    w_rf /= total\n",
    "    w_gnn /= total\n",
    "    i=0\n",
    "    ensemble=[]\n",
    "    while i < len(normalized_combined):\n",
    "        row = normalized_combined.iloc[i]\n",
    "        mlp_rank = row['mlp_rank']\n",
    "        rf_rank  = row['rf_rank']\n",
    "        gnn_rank = row.get('gnn_rank', 0)\n",
    "\n",
    "        score = mlp_rank  * w_mlp \\\n",
    "              + rf_rank * w_rf \\\n",
    "              + gnn_rank * w_gnn\n",
    "        score = round(score, 1)\n",
    "        ensemble.append(score)\n",
    "        i += 1\n",
    "    normalized_combined['ensemble_rank']=ensemble\n",
    "    normalized_combined = normalized_combined.sort_values(by=['ensemble_rank'],ascending=True)\n",
    "    normalized_combined['rank'] = normalized_combined['ensemble_rank'].rank(method='min', ascending=True)\n",
    "    return normalized_combined"
   ]
  },
  {
   "cell_type": "code",
   "execution_count": 110,
   "id": "fef783fc",
   "metadata": {},
   "outputs": [],
   "source": [
    "def top_1_percent_combined(normalized_combined_ensemble):\n",
    "    print ('Select non-duplicated top 1% VS hits from MLP, RF, GNN, and ensemble...')\n",
    "    length = int(len(normalized_combined_ensemble)/100)\n",
    "    normalized_combined_ensemble_1 = normalized_combined_ensemble.iloc[:length]\n",
    "    mlp_1 = normalized_combined_ensemble.sort_values(by=['mlp_rank'],ascending=True).iloc[:length]\n",
    "    rf_1 = normalized_combined_ensemble.sort_values(by=['rf_rank'],ascending=True).iloc[:length]\n",
    "    gnn_1 = normalized_combined_ensemble.sort_values(by=['gnn_rank'],ascending=True).iloc[:length]\n",
    "    frames= [normalized_combined_ensemble_1, mlp_1, rf_1, gnn_1]\n",
    "    percent_1_combined = pd.concat(frames)\n",
    "    percent_1_combined = percent_1_combined.drop_duplicates(subset=['comp_id'])\n",
    "    \n",
    "    return percent_1_combined"
   ]
  },
  {
   "cell_type": "code",
   "execution_count": 111,
   "id": "b879afd8",
   "metadata": {},
   "outputs": [],
   "source": [
    "def write_out(outcome,name):\n",
    "    file_name=str(name)\n",
    "    outcome.to_csv(file_name+'_top_1_percent_VS_hits'+'.csv',index=False)\n",
    "    print (\"Done. Top selected compounds are written to the disk\")\n",
    "    return"
   ]
  },
  {
   "cell_type": "code",
   "execution_count": 112,
   "id": "4f0d7bde",
   "metadata": {},
   "outputs": [],
   "source": [
    "def write_out_all(outcome,name):\n",
    "    file_name=str(name)\n",
    "    outcome.to_csv(file_name+'_VS_all'+'.csv',index=False)\n",
    "    print (\"Done. All screened compounds are written to the disk\")\n",
    "    return"
   ]
  },
  {
   "cell_type": "markdown",
   "id": "4181fb65",
   "metadata": {},
   "source": [
    "# Use functions"
   ]
  },
  {
   "cell_type": "code",
   "execution_count": 113,
   "id": "e859d820",
   "metadata": {},
   "outputs": [
    {
     "name": "stdout",
     "output_type": "stream",
     "text": [
      "Read P09238_50K_VS_MLP.csv_properties_calculated.csv...\n",
      "Read P09238_50K_VS_RF.csv_properties_calculated.csv...\n",
      "Read P09238_50K_VS_GNN.csv_properties_calculated.csv...\n"
     ]
    }
   ],
   "source": [
    "mlp=read_screen_result(args.result_mlp)\n",
    "rf=read_screen_result(args.result_rf)\n",
    "gnn=read_screen_result(args.result_gnn)"
   ]
  },
  {
   "cell_type": "code",
   "execution_count": 114,
   "id": "74f8af17",
   "metadata": {},
   "outputs": [
    {
     "name": "stdout",
     "output_type": "stream",
     "text": [
      "Merge three files...\n",
      "Add ensemble ranking as well...\n",
      "Select non-duplicated top 1% VS hits from MLP, RF, GNN, and ensemble...\n"
     ]
    }
   ],
   "source": [
    "mlp = add_rank(mlp,'mlp')\n",
    "rf = add_rank(rf,'rf')\n",
    "gnn = add_rank(gnn,'gnn')\n",
    "combined=merge_three(mlp,rf,gnn)\n",
    "w_mlp, w_rf, w_gnn = args.proportions\n",
    "combined_ensemble=ensemble_score(combined, w_mlp=w_mlp, w_rf=w_rf, w_gnn=w_gnn)\n",
    "outcome = top_1_percent_combined(combined_ensemble)"
   ]
  },
  {
   "cell_type": "code",
   "execution_count": 115,
   "id": "f7c2ae3e",
   "metadata": {},
   "outputs": [
    {
     "name": "stdout",
     "output_type": "stream",
     "text": [
      "Done. Top selected compounds are written to the disk\n"
     ]
    }
   ],
   "source": [
    "write_out(outcome,args.file_name)"
   ]
  },
  {
   "cell_type": "code",
   "execution_count": 116,
   "id": "bc16aca4",
   "metadata": {},
   "outputs": [
    {
     "name": "stdout",
     "output_type": "stream",
     "text": [
      "Done. All screened compounds are written to the disk\n"
     ]
    }
   ],
   "source": [
    "write_out_all(combined_ensemble,args.file_name)"
   ]
  },
  {
   "cell_type": "markdown",
   "id": "844f0f08",
   "metadata": {},
   "source": [
    "# Example"
   ]
  },
  {
   "cell_type": "code",
   "execution_count": 117,
   "id": "06380086",
   "metadata": {},
   "outputs": [
    {
     "name": "stdout",
     "output_type": "stream",
     "text": [
      "Read CDK1_50K_VS_MLP.csv_properties_calculated.csv...\n"
     ]
    },
    {
     "ename": "FileNotFoundError",
     "evalue": "[Errno 2] No such file or directory: 'CDK1_50K_VS_MLP.csv_properties_calculated.csv'",
     "output_type": "error",
     "traceback": [
      "\u001b[0;31m---------------------------------------------------------------------------\u001b[0m",
      "\u001b[0;31mFileNotFoundError\u001b[0m                         Traceback (most recent call last)",
      "Cell \u001b[0;32mIn[117], line 1\u001b[0m\n\u001b[0;32m----> 1\u001b[0m mlp\u001b[38;5;241m=\u001b[39m\u001b[43mread_screen_result\u001b[49m\u001b[43m(\u001b[49m\u001b[38;5;124;43m'\u001b[39;49m\u001b[38;5;124;43mCDK1_50K_VS_MLP.csv_properties_calculated.csv\u001b[39;49m\u001b[38;5;124;43m'\u001b[39;49m\u001b[43m)\u001b[49m\n\u001b[1;32m      2\u001b[0m rf\u001b[38;5;241m=\u001b[39mread_screen_result(\u001b[38;5;124m'\u001b[39m\u001b[38;5;124mCDK1_50K_VS.csv_properties_calculated.csv\u001b[39m\u001b[38;5;124m'\u001b[39m)\n",
      "Cell \u001b[0;32mIn[105], line 3\u001b[0m, in \u001b[0;36mread_screen_result\u001b[0;34m(name)\u001b[0m\n\u001b[1;32m      1\u001b[0m \u001b[38;5;28;01mdef\u001b[39;00m \u001b[38;5;21mread_screen_result\u001b[39m(name):\n\u001b[1;32m      2\u001b[0m     \u001b[38;5;28mprint\u001b[39m (\u001b[38;5;124m'\u001b[39m\u001b[38;5;124mRead \u001b[39m\u001b[38;5;124m'\u001b[39m\u001b[38;5;241m+\u001b[39m name \u001b[38;5;241m+\u001b[39m\u001b[38;5;124m'\u001b[39m\u001b[38;5;124m...\u001b[39m\u001b[38;5;124m'\u001b[39m)\n\u001b[0;32m----> 3\u001b[0m     outcome \u001b[38;5;241m=\u001b[39m \u001b[43mpd\u001b[49m\u001b[38;5;241;43m.\u001b[39;49m\u001b[43mread_csv\u001b[49m\u001b[43m(\u001b[49m\u001b[43mname\u001b[49m\u001b[43m,\u001b[49m\u001b[43m \u001b[49m\u001b[43mheader\u001b[49m\u001b[38;5;241;43m=\u001b[39;49m\u001b[38;5;241;43m0\u001b[39;49m\u001b[43m)\u001b[49m\n\u001b[1;32m      4\u001b[0m     \u001b[38;5;28;01mreturn\u001b[39;00m outcome\n",
      "File \u001b[0;32m~/software/anaconda3/2024.06/envs/TAME_VS/lib/python3.9/site-packages/pandas/util/_decorators.py:311\u001b[0m, in \u001b[0;36mdeprecate_nonkeyword_arguments.<locals>.decorate.<locals>.wrapper\u001b[0;34m(*args, **kwargs)\u001b[0m\n\u001b[1;32m    305\u001b[0m \u001b[38;5;28;01mif\u001b[39;00m \u001b[38;5;28mlen\u001b[39m(args) \u001b[38;5;241m>\u001b[39m num_allow_args:\n\u001b[1;32m    306\u001b[0m     warnings\u001b[38;5;241m.\u001b[39mwarn(\n\u001b[1;32m    307\u001b[0m         msg\u001b[38;5;241m.\u001b[39mformat(arguments\u001b[38;5;241m=\u001b[39marguments),\n\u001b[1;32m    308\u001b[0m         \u001b[38;5;167;01mFutureWarning\u001b[39;00m,\n\u001b[1;32m    309\u001b[0m         stacklevel\u001b[38;5;241m=\u001b[39mstacklevel,\n\u001b[1;32m    310\u001b[0m     )\n\u001b[0;32m--> 311\u001b[0m \u001b[38;5;28;01mreturn\u001b[39;00m \u001b[43mfunc\u001b[49m\u001b[43m(\u001b[49m\u001b[38;5;241;43m*\u001b[39;49m\u001b[43margs\u001b[49m\u001b[43m,\u001b[49m\u001b[43m \u001b[49m\u001b[38;5;241;43m*\u001b[39;49m\u001b[38;5;241;43m*\u001b[39;49m\u001b[43mkwargs\u001b[49m\u001b[43m)\u001b[49m\n",
      "File \u001b[0;32m~/software/anaconda3/2024.06/envs/TAME_VS/lib/python3.9/site-packages/pandas/io/parsers/readers.py:586\u001b[0m, in \u001b[0;36mread_csv\u001b[0;34m(filepath_or_buffer, sep, delimiter, header, names, index_col, usecols, squeeze, prefix, mangle_dupe_cols, dtype, engine, converters, true_values, false_values, skipinitialspace, skiprows, skipfooter, nrows, na_values, keep_default_na, na_filter, verbose, skip_blank_lines, parse_dates, infer_datetime_format, keep_date_col, date_parser, dayfirst, cache_dates, iterator, chunksize, compression, thousands, decimal, lineterminator, quotechar, quoting, doublequote, escapechar, comment, encoding, encoding_errors, dialect, error_bad_lines, warn_bad_lines, on_bad_lines, delim_whitespace, low_memory, memory_map, float_precision, storage_options)\u001b[0m\n\u001b[1;32m    571\u001b[0m kwds_defaults \u001b[38;5;241m=\u001b[39m _refine_defaults_read(\n\u001b[1;32m    572\u001b[0m     dialect,\n\u001b[1;32m    573\u001b[0m     delimiter,\n\u001b[0;32m   (...)\u001b[0m\n\u001b[1;32m    582\u001b[0m     defaults\u001b[38;5;241m=\u001b[39m{\u001b[38;5;124m\"\u001b[39m\u001b[38;5;124mdelimiter\u001b[39m\u001b[38;5;124m\"\u001b[39m: \u001b[38;5;124m\"\u001b[39m\u001b[38;5;124m,\u001b[39m\u001b[38;5;124m\"\u001b[39m},\n\u001b[1;32m    583\u001b[0m )\n\u001b[1;32m    584\u001b[0m kwds\u001b[38;5;241m.\u001b[39mupdate(kwds_defaults)\n\u001b[0;32m--> 586\u001b[0m \u001b[38;5;28;01mreturn\u001b[39;00m \u001b[43m_read\u001b[49m\u001b[43m(\u001b[49m\u001b[43mfilepath_or_buffer\u001b[49m\u001b[43m,\u001b[49m\u001b[43m \u001b[49m\u001b[43mkwds\u001b[49m\u001b[43m)\u001b[49m\n",
      "File \u001b[0;32m~/software/anaconda3/2024.06/envs/TAME_VS/lib/python3.9/site-packages/pandas/io/parsers/readers.py:482\u001b[0m, in \u001b[0;36m_read\u001b[0;34m(filepath_or_buffer, kwds)\u001b[0m\n\u001b[1;32m    479\u001b[0m _validate_names(kwds\u001b[38;5;241m.\u001b[39mget(\u001b[38;5;124m\"\u001b[39m\u001b[38;5;124mnames\u001b[39m\u001b[38;5;124m\"\u001b[39m, \u001b[38;5;28;01mNone\u001b[39;00m))\n\u001b[1;32m    481\u001b[0m \u001b[38;5;66;03m# Create the parser.\u001b[39;00m\n\u001b[0;32m--> 482\u001b[0m parser \u001b[38;5;241m=\u001b[39m \u001b[43mTextFileReader\u001b[49m\u001b[43m(\u001b[49m\u001b[43mfilepath_or_buffer\u001b[49m\u001b[43m,\u001b[49m\u001b[43m \u001b[49m\u001b[38;5;241;43m*\u001b[39;49m\u001b[38;5;241;43m*\u001b[39;49m\u001b[43mkwds\u001b[49m\u001b[43m)\u001b[49m\n\u001b[1;32m    484\u001b[0m \u001b[38;5;28;01mif\u001b[39;00m chunksize \u001b[38;5;129;01mor\u001b[39;00m iterator:\n\u001b[1;32m    485\u001b[0m     \u001b[38;5;28;01mreturn\u001b[39;00m parser\n",
      "File \u001b[0;32m~/software/anaconda3/2024.06/envs/TAME_VS/lib/python3.9/site-packages/pandas/io/parsers/readers.py:811\u001b[0m, in \u001b[0;36mTextFileReader.__init__\u001b[0;34m(self, f, engine, **kwds)\u001b[0m\n\u001b[1;32m    808\u001b[0m \u001b[38;5;28;01mif\u001b[39;00m \u001b[38;5;124m\"\u001b[39m\u001b[38;5;124mhas_index_names\u001b[39m\u001b[38;5;124m\"\u001b[39m \u001b[38;5;129;01min\u001b[39;00m kwds:\n\u001b[1;32m    809\u001b[0m     \u001b[38;5;28mself\u001b[39m\u001b[38;5;241m.\u001b[39moptions[\u001b[38;5;124m\"\u001b[39m\u001b[38;5;124mhas_index_names\u001b[39m\u001b[38;5;124m\"\u001b[39m] \u001b[38;5;241m=\u001b[39m kwds[\u001b[38;5;124m\"\u001b[39m\u001b[38;5;124mhas_index_names\u001b[39m\u001b[38;5;124m\"\u001b[39m]\n\u001b[0;32m--> 811\u001b[0m \u001b[38;5;28mself\u001b[39m\u001b[38;5;241m.\u001b[39m_engine \u001b[38;5;241m=\u001b[39m \u001b[38;5;28;43mself\u001b[39;49m\u001b[38;5;241;43m.\u001b[39;49m\u001b[43m_make_engine\u001b[49m\u001b[43m(\u001b[49m\u001b[38;5;28;43mself\u001b[39;49m\u001b[38;5;241;43m.\u001b[39;49m\u001b[43mengine\u001b[49m\u001b[43m)\u001b[49m\n",
      "File \u001b[0;32m~/software/anaconda3/2024.06/envs/TAME_VS/lib/python3.9/site-packages/pandas/io/parsers/readers.py:1040\u001b[0m, in \u001b[0;36mTextFileReader._make_engine\u001b[0;34m(self, engine)\u001b[0m\n\u001b[1;32m   1036\u001b[0m     \u001b[38;5;28;01mraise\u001b[39;00m \u001b[38;5;167;01mValueError\u001b[39;00m(\n\u001b[1;32m   1037\u001b[0m         \u001b[38;5;124mf\u001b[39m\u001b[38;5;124m\"\u001b[39m\u001b[38;5;124mUnknown engine: \u001b[39m\u001b[38;5;132;01m{\u001b[39;00mengine\u001b[38;5;132;01m}\u001b[39;00m\u001b[38;5;124m (valid options are \u001b[39m\u001b[38;5;132;01m{\u001b[39;00mmapping\u001b[38;5;241m.\u001b[39mkeys()\u001b[38;5;132;01m}\u001b[39;00m\u001b[38;5;124m)\u001b[39m\u001b[38;5;124m\"\u001b[39m\n\u001b[1;32m   1038\u001b[0m     )\n\u001b[1;32m   1039\u001b[0m \u001b[38;5;66;03m# error: Too many arguments for \"ParserBase\"\u001b[39;00m\n\u001b[0;32m-> 1040\u001b[0m \u001b[38;5;28;01mreturn\u001b[39;00m \u001b[43mmapping\u001b[49m\u001b[43m[\u001b[49m\u001b[43mengine\u001b[49m\u001b[43m]\u001b[49m\u001b[43m(\u001b[49m\u001b[38;5;28;43mself\u001b[39;49m\u001b[38;5;241;43m.\u001b[39;49m\u001b[43mf\u001b[49m\u001b[43m,\u001b[49m\u001b[43m \u001b[49m\u001b[38;5;241;43m*\u001b[39;49m\u001b[38;5;241;43m*\u001b[39;49m\u001b[38;5;28;43mself\u001b[39;49m\u001b[38;5;241;43m.\u001b[39;49m\u001b[43moptions\u001b[49m\u001b[43m)\u001b[49m\n",
      "File \u001b[0;32m~/software/anaconda3/2024.06/envs/TAME_VS/lib/python3.9/site-packages/pandas/io/parsers/c_parser_wrapper.py:51\u001b[0m, in \u001b[0;36mCParserWrapper.__init__\u001b[0;34m(self, src, **kwds)\u001b[0m\n\u001b[1;32m     48\u001b[0m kwds[\u001b[38;5;124m\"\u001b[39m\u001b[38;5;124musecols\u001b[39m\u001b[38;5;124m\"\u001b[39m] \u001b[38;5;241m=\u001b[39m \u001b[38;5;28mself\u001b[39m\u001b[38;5;241m.\u001b[39musecols\n\u001b[1;32m     50\u001b[0m \u001b[38;5;66;03m# open handles\u001b[39;00m\n\u001b[0;32m---> 51\u001b[0m \u001b[38;5;28;43mself\u001b[39;49m\u001b[38;5;241;43m.\u001b[39;49m\u001b[43m_open_handles\u001b[49m\u001b[43m(\u001b[49m\u001b[43msrc\u001b[49m\u001b[43m,\u001b[49m\u001b[43m \u001b[49m\u001b[43mkwds\u001b[49m\u001b[43m)\u001b[49m\n\u001b[1;32m     52\u001b[0m \u001b[38;5;28;01massert\u001b[39;00m \u001b[38;5;28mself\u001b[39m\u001b[38;5;241m.\u001b[39mhandles \u001b[38;5;129;01mis\u001b[39;00m \u001b[38;5;129;01mnot\u001b[39;00m \u001b[38;5;28;01mNone\u001b[39;00m\n\u001b[1;32m     54\u001b[0m \u001b[38;5;66;03m# Have to pass int, would break tests using TextReader directly otherwise :(\u001b[39;00m\n",
      "File \u001b[0;32m~/software/anaconda3/2024.06/envs/TAME_VS/lib/python3.9/site-packages/pandas/io/parsers/base_parser.py:222\u001b[0m, in \u001b[0;36mParserBase._open_handles\u001b[0;34m(self, src, kwds)\u001b[0m\n\u001b[1;32m    218\u001b[0m \u001b[38;5;28;01mdef\u001b[39;00m \u001b[38;5;21m_open_handles\u001b[39m(\u001b[38;5;28mself\u001b[39m, src: FilePathOrBuffer, kwds: \u001b[38;5;28mdict\u001b[39m[\u001b[38;5;28mstr\u001b[39m, Any]) \u001b[38;5;241m-\u001b[39m\u001b[38;5;241m>\u001b[39m \u001b[38;5;28;01mNone\u001b[39;00m:\n\u001b[1;32m    219\u001b[0m \u001b[38;5;250m    \u001b[39m\u001b[38;5;124;03m\"\"\"\u001b[39;00m\n\u001b[1;32m    220\u001b[0m \u001b[38;5;124;03m    Let the readers open IOHandles after they are done with their potential raises.\u001b[39;00m\n\u001b[1;32m    221\u001b[0m \u001b[38;5;124;03m    \"\"\"\u001b[39;00m\n\u001b[0;32m--> 222\u001b[0m     \u001b[38;5;28mself\u001b[39m\u001b[38;5;241m.\u001b[39mhandles \u001b[38;5;241m=\u001b[39m \u001b[43mget_handle\u001b[49m\u001b[43m(\u001b[49m\n\u001b[1;32m    223\u001b[0m \u001b[43m        \u001b[49m\u001b[43msrc\u001b[49m\u001b[43m,\u001b[49m\n\u001b[1;32m    224\u001b[0m \u001b[43m        \u001b[49m\u001b[38;5;124;43m\"\u001b[39;49m\u001b[38;5;124;43mr\u001b[39;49m\u001b[38;5;124;43m\"\u001b[39;49m\u001b[43m,\u001b[49m\n\u001b[1;32m    225\u001b[0m \u001b[43m        \u001b[49m\u001b[43mencoding\u001b[49m\u001b[38;5;241;43m=\u001b[39;49m\u001b[43mkwds\u001b[49m\u001b[38;5;241;43m.\u001b[39;49m\u001b[43mget\u001b[49m\u001b[43m(\u001b[49m\u001b[38;5;124;43m\"\u001b[39;49m\u001b[38;5;124;43mencoding\u001b[39;49m\u001b[38;5;124;43m\"\u001b[39;49m\u001b[43m,\u001b[49m\u001b[43m \u001b[49m\u001b[38;5;28;43;01mNone\u001b[39;49;00m\u001b[43m)\u001b[49m\u001b[43m,\u001b[49m\n\u001b[1;32m    226\u001b[0m \u001b[43m        \u001b[49m\u001b[43mcompression\u001b[49m\u001b[38;5;241;43m=\u001b[39;49m\u001b[43mkwds\u001b[49m\u001b[38;5;241;43m.\u001b[39;49m\u001b[43mget\u001b[49m\u001b[43m(\u001b[49m\u001b[38;5;124;43m\"\u001b[39;49m\u001b[38;5;124;43mcompression\u001b[39;49m\u001b[38;5;124;43m\"\u001b[39;49m\u001b[43m,\u001b[49m\u001b[43m \u001b[49m\u001b[38;5;28;43;01mNone\u001b[39;49;00m\u001b[43m)\u001b[49m\u001b[43m,\u001b[49m\n\u001b[1;32m    227\u001b[0m \u001b[43m        \u001b[49m\u001b[43mmemory_map\u001b[49m\u001b[38;5;241;43m=\u001b[39;49m\u001b[43mkwds\u001b[49m\u001b[38;5;241;43m.\u001b[39;49m\u001b[43mget\u001b[49m\u001b[43m(\u001b[49m\u001b[38;5;124;43m\"\u001b[39;49m\u001b[38;5;124;43mmemory_map\u001b[39;49m\u001b[38;5;124;43m\"\u001b[39;49m\u001b[43m,\u001b[49m\u001b[43m \u001b[49m\u001b[38;5;28;43;01mFalse\u001b[39;49;00m\u001b[43m)\u001b[49m\u001b[43m,\u001b[49m\n\u001b[1;32m    228\u001b[0m \u001b[43m        \u001b[49m\u001b[43mstorage_options\u001b[49m\u001b[38;5;241;43m=\u001b[39;49m\u001b[43mkwds\u001b[49m\u001b[38;5;241;43m.\u001b[39;49m\u001b[43mget\u001b[49m\u001b[43m(\u001b[49m\u001b[38;5;124;43m\"\u001b[39;49m\u001b[38;5;124;43mstorage_options\u001b[39;49m\u001b[38;5;124;43m\"\u001b[39;49m\u001b[43m,\u001b[49m\u001b[43m \u001b[49m\u001b[38;5;28;43;01mNone\u001b[39;49;00m\u001b[43m)\u001b[49m\u001b[43m,\u001b[49m\n\u001b[1;32m    229\u001b[0m \u001b[43m        \u001b[49m\u001b[43merrors\u001b[49m\u001b[38;5;241;43m=\u001b[39;49m\u001b[43mkwds\u001b[49m\u001b[38;5;241;43m.\u001b[39;49m\u001b[43mget\u001b[49m\u001b[43m(\u001b[49m\u001b[38;5;124;43m\"\u001b[39;49m\u001b[38;5;124;43mencoding_errors\u001b[39;49m\u001b[38;5;124;43m\"\u001b[39;49m\u001b[43m,\u001b[49m\u001b[43m \u001b[49m\u001b[38;5;124;43m\"\u001b[39;49m\u001b[38;5;124;43mstrict\u001b[39;49m\u001b[38;5;124;43m\"\u001b[39;49m\u001b[43m)\u001b[49m\u001b[43m,\u001b[49m\n\u001b[1;32m    230\u001b[0m \u001b[43m    \u001b[49m\u001b[43m)\u001b[49m\n",
      "File \u001b[0;32m~/software/anaconda3/2024.06/envs/TAME_VS/lib/python3.9/site-packages/pandas/io/common.py:702\u001b[0m, in \u001b[0;36mget_handle\u001b[0;34m(path_or_buf, mode, encoding, compression, memory_map, is_text, errors, storage_options)\u001b[0m\n\u001b[1;32m    697\u001b[0m \u001b[38;5;28;01melif\u001b[39;00m \u001b[38;5;28misinstance\u001b[39m(handle, \u001b[38;5;28mstr\u001b[39m):\n\u001b[1;32m    698\u001b[0m     \u001b[38;5;66;03m# Check whether the filename is to be opened in binary mode.\u001b[39;00m\n\u001b[1;32m    699\u001b[0m     \u001b[38;5;66;03m# Binary mode does not support 'encoding' and 'newline'.\u001b[39;00m\n\u001b[1;32m    700\u001b[0m     \u001b[38;5;28;01mif\u001b[39;00m ioargs\u001b[38;5;241m.\u001b[39mencoding \u001b[38;5;129;01mand\u001b[39;00m \u001b[38;5;124m\"\u001b[39m\u001b[38;5;124mb\u001b[39m\u001b[38;5;124m\"\u001b[39m \u001b[38;5;129;01mnot\u001b[39;00m \u001b[38;5;129;01min\u001b[39;00m ioargs\u001b[38;5;241m.\u001b[39mmode:\n\u001b[1;32m    701\u001b[0m         \u001b[38;5;66;03m# Encoding\u001b[39;00m\n\u001b[0;32m--> 702\u001b[0m         handle \u001b[38;5;241m=\u001b[39m \u001b[38;5;28;43mopen\u001b[39;49m\u001b[43m(\u001b[49m\n\u001b[1;32m    703\u001b[0m \u001b[43m            \u001b[49m\u001b[43mhandle\u001b[49m\u001b[43m,\u001b[49m\n\u001b[1;32m    704\u001b[0m \u001b[43m            \u001b[49m\u001b[43mioargs\u001b[49m\u001b[38;5;241;43m.\u001b[39;49m\u001b[43mmode\u001b[49m\u001b[43m,\u001b[49m\n\u001b[1;32m    705\u001b[0m \u001b[43m            \u001b[49m\u001b[43mencoding\u001b[49m\u001b[38;5;241;43m=\u001b[39;49m\u001b[43mioargs\u001b[49m\u001b[38;5;241;43m.\u001b[39;49m\u001b[43mencoding\u001b[49m\u001b[43m,\u001b[49m\n\u001b[1;32m    706\u001b[0m \u001b[43m            \u001b[49m\u001b[43merrors\u001b[49m\u001b[38;5;241;43m=\u001b[39;49m\u001b[43merrors\u001b[49m\u001b[43m,\u001b[49m\n\u001b[1;32m    707\u001b[0m \u001b[43m            \u001b[49m\u001b[43mnewline\u001b[49m\u001b[38;5;241;43m=\u001b[39;49m\u001b[38;5;124;43m\"\u001b[39;49m\u001b[38;5;124;43m\"\u001b[39;49m\u001b[43m,\u001b[49m\n\u001b[1;32m    708\u001b[0m \u001b[43m        \u001b[49m\u001b[43m)\u001b[49m\n\u001b[1;32m    709\u001b[0m     \u001b[38;5;28;01melse\u001b[39;00m:\n\u001b[1;32m    710\u001b[0m         \u001b[38;5;66;03m# Binary mode\u001b[39;00m\n\u001b[1;32m    711\u001b[0m         handle \u001b[38;5;241m=\u001b[39m \u001b[38;5;28mopen\u001b[39m(handle, ioargs\u001b[38;5;241m.\u001b[39mmode)\n",
      "\u001b[0;31mFileNotFoundError\u001b[0m: [Errno 2] No such file or directory: 'CDK1_50K_VS_MLP.csv_properties_calculated.csv'"
     ]
    }
   ],
   "source": [
    "mlp=read_screen_result('CDK1_50K_VS_MLP.csv_properties_calculated.csv')\n",
    "rf=read_screen_result('CDK1_50K_VS.csv_properties_calculated.csv')"
   ]
  },
  {
   "cell_type": "code",
   "execution_count": null,
   "id": "1435efa9",
   "metadata": {},
   "outputs": [],
   "source": [
    "mlp = add_rank(mlp,'mlp')\n",
    "rf = add_rank(rf,'rf')"
   ]
  },
  {
   "cell_type": "code",
   "execution_count": null,
   "id": "b868d944",
   "metadata": {},
   "outputs": [
    {
     "name": "stdout",
     "output_type": "stream",
     "text": [
      "Merge two files...\n"
     ]
    }
   ],
   "source": [
    "combined=merge_two(mlp,rf)\n"
   ]
  },
  {
   "cell_type": "code",
   "execution_count": null,
   "id": "9646628c",
   "metadata": {},
   "outputs": [
    {
     "name": "stdout",
     "output_type": "stream",
     "text": [
      "Add ensemble ranking as well...\n"
     ]
    }
   ],
   "source": [
    "combined_ensemble=ensemble_score(combined)"
   ]
  },
  {
   "cell_type": "code",
   "execution_count": null,
   "id": "da91cf6b",
   "metadata": {},
   "outputs": [
    {
     "name": "stdout",
     "output_type": "stream",
     "text": [
      "Select non-duplicated top 1% VS hits from MLP, RF, and ensemble...\n"
     ]
    }
   ],
   "source": [
    "outcome = top_1_percent_combined(combined_ensemble)"
   ]
  },
  {
   "cell_type": "code",
   "execution_count": null,
   "id": "1731c224",
   "metadata": {},
   "outputs": [
    {
     "name": "stdout",
     "output_type": "stream",
     "text": [
      "Done. Top selected compounds are written to the disk\n"
     ]
    }
   ],
   "source": [
    "write_out(outcome,'CDK1_top_1_VS_hits')"
   ]
  },
  {
   "cell_type": "code",
   "execution_count": null,
   "id": "d9454609",
   "metadata": {},
   "outputs": [
    {
     "name": "stdout",
     "output_type": "stream",
     "text": [
      "Done. Top selected compounds are written to the disk\n"
     ]
    }
   ],
   "source": [
    "write_out(combined_ensemble,'CDK1_VS_all')"
   ]
  },
  {
   "cell_type": "code",
   "execution_count": null,
   "id": "54674c08",
   "metadata": {},
   "outputs": [
    {
     "name": "stdout",
     "output_type": "stream",
     "text": [
      "Done. All screened compounds are written to the disk\n"
     ]
    }
   ],
   "source": [
    "write_out_all(combined_ensemble,'CDK1_VS_all')"
   ]
  },
  {
   "cell_type": "code",
   "execution_count": null,
   "id": "e8f07116",
   "metadata": {},
   "outputs": [],
   "source": []
  }
 ],
 "metadata": {
  "kernelspec": {
   "display_name": "TAME_VS",
   "language": "python",
   "name": "python3"
  },
  "language_info": {
   "codemirror_mode": {
    "name": "ipython",
    "version": 3
   },
   "file_extension": ".py",
   "mimetype": "text/x-python",
   "name": "python",
   "nbconvert_exporter": "python",
   "pygments_lexer": "ipython3",
   "version": "3.9.21"
  }
 },
 "nbformat": 4,
 "nbformat_minor": 5
}
